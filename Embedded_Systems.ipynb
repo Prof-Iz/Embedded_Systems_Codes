{
 "cells": [
  {
   "cell_type": "markdown",
   "metadata": {},
   "source": [
    "# Embedded Systems Functions\n",
    "\n",
    "The functions have been prepared in Julia 1.5.3 and are listed below with example use cases isolated in each cell. Listed below are the functions.\n",
    "   ## petriNets_marking:\n",
    "        Array of Trigger, Incidence Matrix and Initial\n",
    "        Marking provided and generates the proceeding\n",
    "        Marking Matrices based on the Trigger. Returns\n",
    "        an array of arrays of type Array{Any,1}."
   ]
  },
  {
   "cell_type": "code",
   "execution_count": 29,
   "metadata": {
    "scrolled": true
   },
   "outputs": [
    {
     "name": "stdout",
     "output_type": "stream",
     "text": [
      "[[1 0 1 2 0], [0 0 1 2 1], [1 1 0 1 1], [1 1 1 3 0]]"
     ]
    }
   ],
   "source": [
    "\"\"\"\n",
    "    D_M = Array of trigger Arrays\n",
    "    Incidence = Incidence Matrix\n",
    "    Marking = Marking Matrix - the first one\n",
    "    \n",
    "    Function will run for all Trigger Array\n",
    "\"\"\"\n",
    "function petriNets_marking(D_M,Incidence,Marking)\n",
    "    result_markings = []\n",
    "    a = D_M[1] * Incidence + Marking\n",
    "    push!(result_markings,a)\n",
    "    count = 2\n",
    "    while (count <= size(D_M,1))\n",
    "        a = D_M[count] * Incidence + a\n",
    "        push!(result_markings,a)\n",
    "        count+=1\n",
    "    end\n",
    "    return result_markings\n",
    "end\n",
    "\n",
    "# Example usage of Fnc\n",
    "D_M = [[0 1 1 0],[0 1 0 1],[1 0 0 1], [1 1 1 0]]\n",
    "I = [1 1 0 0 -1\n",
    "    -1 0 1 1 0\n",
    "    0 -1 0 1 0\n",
    "    0 0 -1 -1 1]\n",
    "M = [2 1 0 0 0]\n",
    "\n",
    "markings = petriNets_marking(D_M,I,M)\n",
    "print([marking for marking in markings])"
   ]
  },
  {
   "cell_type": "code",
   "execution_count": null,
   "metadata": {
    "scrolled": true
   },
   "outputs": [],
   "source": []
  }
 ],
 "metadata": {
  "kernelspec": {
   "display_name": "Julia 1.5.3",
   "language": "julia",
   "name": "julia-1.5"
  },
  "language_info": {
   "file_extension": ".jl",
   "mimetype": "application/julia",
   "name": "julia",
   "version": "1.5.3"
  }
 },
 "nbformat": 4,
 "nbformat_minor": 4
}
